{
  "cells": [
    {
      "cell_type": "code",
      "execution_count": 25,
      "metadata": {
        "id": "k5i8OYY3iPXj"
      },
      "outputs": [],
      "source": [
        "import pandas as pd\n",
        "import numpy as np"
      ]
    },
    {
      "cell_type": "code",
      "execution_count": 26,
      "metadata": {
        "id": "eYcxDB_Qignz"
      },
      "outputs": [],
      "source": [
        "# Read the CSV file\n",
        "df = pd.read_csv('/Users/shivaay0898/Downloads/Assignment_employeestats/employee_data.csv')\n"
      ]
    },
    {
      "cell_type": "code",
      "execution_count": 27,
      "metadata": {
        "colab": {
          "base_uri": "https://localhost:8080/",
          "height": 327
        },
        "id": "--HdSm9pjSzn",
        "outputId": "816524be-01a3-444c-f955-0a38ef78ba4c"
      },
      "outputs": [
        {
          "data": {
            "text/html": [
              "<div>\n",
              "<style scoped>\n",
              "    .dataframe tbody tr th:only-of-type {\n",
              "        vertical-align: middle;\n",
              "    }\n",
              "\n",
              "    .dataframe tbody tr th {\n",
              "        vertical-align: top;\n",
              "    }\n",
              "\n",
              "    .dataframe thead th {\n",
              "        text-align: right;\n",
              "    }\n",
              "</style>\n",
              "<table border=\"1\" class=\"dataframe\">\n",
              "  <thead>\n",
              "    <tr style=\"text-align: right;\">\n",
              "      <th></th>\n",
              "      <th>Position ID</th>\n",
              "      <th>Position Status</th>\n",
              "      <th>Time</th>\n",
              "      <th>Time Out</th>\n",
              "      <th>Timecard Hours (as Time)</th>\n",
              "      <th>Pay Cycle Start Date</th>\n",
              "      <th>Pay Cycle End Date</th>\n",
              "      <th>Employee Name</th>\n",
              "      <th>File Number</th>\n",
              "      <th>Unnamed: 9</th>\n",
              "      <th>Unnamed: 10</th>\n",
              "    </tr>\n",
              "  </thead>\n",
              "  <tbody>\n",
              "    <tr>\n",
              "      <th>0</th>\n",
              "      <td>WFS000054</td>\n",
              "      <td>Active</td>\n",
              "      <td>NaN</td>\n",
              "      <td>NaN</td>\n",
              "      <td>NaN</td>\n",
              "      <td>NaN</td>\n",
              "      <td>NaN</td>\n",
              "      <td>SiWgh, PraGhjEM</td>\n",
              "      <td>54</td>\n",
              "      <td>NaN</td>\n",
              "      <td>NaN</td>\n",
              "    </tr>\n",
              "    <tr>\n",
              "      <th>1</th>\n",
              "      <td>WFS000065</td>\n",
              "      <td>Active</td>\n",
              "      <td>09/12/2023 10:08 AM</td>\n",
              "      <td>09/12/2023 01:53 PM</td>\n",
              "      <td>3:45</td>\n",
              "      <td>09/10/2023</td>\n",
              "      <td>09/23/2023</td>\n",
              "      <td>REsaXiaWE, XAis</td>\n",
              "      <td>65</td>\n",
              "      <td>NaN</td>\n",
              "      <td>NaN</td>\n",
              "    </tr>\n",
              "    <tr>\n",
              "      <th>2</th>\n",
              "      <td>WFS000065</td>\n",
              "      <td>Active</td>\n",
              "      <td>09/12/2023 02:23 PM</td>\n",
              "      <td>09/12/2023 07:02 PM</td>\n",
              "      <td>4:39</td>\n",
              "      <td>09/10/2023</td>\n",
              "      <td>09/23/2023</td>\n",
              "      <td>REsaXiaWE, XAis</td>\n",
              "      <td>65</td>\n",
              "      <td>NaN</td>\n",
              "      <td>NaN</td>\n",
              "    </tr>\n",
              "    <tr>\n",
              "      <th>3</th>\n",
              "      <td>WFS000065</td>\n",
              "      <td>Active</td>\n",
              "      <td>09/13/2023 10:08 AM</td>\n",
              "      <td>09/13/2023 02:20 PM</td>\n",
              "      <td>4:12</td>\n",
              "      <td>09/10/2023</td>\n",
              "      <td>09/23/2023</td>\n",
              "      <td>REsaXiaWE, XAis</td>\n",
              "      <td>65</td>\n",
              "      <td>NaN</td>\n",
              "      <td>NaN</td>\n",
              "    </tr>\n",
              "    <tr>\n",
              "      <th>4</th>\n",
              "      <td>WFS000065</td>\n",
              "      <td>Active</td>\n",
              "      <td>09/13/2023 02:50 PM</td>\n",
              "      <td>09/13/2023 08:44 PM</td>\n",
              "      <td>5:54</td>\n",
              "      <td>09/10/2023</td>\n",
              "      <td>09/23/2023</td>\n",
              "      <td>REsaXiaWE, XAis</td>\n",
              "      <td>65</td>\n",
              "      <td>NaN</td>\n",
              "      <td>NaN</td>\n",
              "    </tr>\n",
              "  </tbody>\n",
              "</table>\n",
              "</div>"
            ],
            "text/plain": [
              "  Position ID Position Status                 Time             Time Out   \n",
              "0   WFS000054          Active                  NaN                  NaN  \\\n",
              "1   WFS000065          Active  09/12/2023 10:08 AM  09/12/2023 01:53 PM   \n",
              "2   WFS000065          Active  09/12/2023 02:23 PM  09/12/2023 07:02 PM   \n",
              "3   WFS000065          Active  09/13/2023 10:08 AM  09/13/2023 02:20 PM   \n",
              "4   WFS000065          Active  09/13/2023 02:50 PM  09/13/2023 08:44 PM   \n",
              "\n",
              "  Timecard Hours (as Time) Pay Cycle Start Date Pay Cycle End Date   \n",
              "0                      NaN                  NaN                NaN  \\\n",
              "1                     3:45           09/10/2023         09/23/2023   \n",
              "2                     4:39           09/10/2023         09/23/2023   \n",
              "3                     4:12           09/10/2023         09/23/2023   \n",
              "4                     5:54           09/10/2023         09/23/2023   \n",
              "\n",
              "     Employee Name  File Number  Unnamed: 9 Unnamed: 10  \n",
              "0  SiWgh, PraGhjEM           54         NaN         NaN  \n",
              "1  REsaXiaWE, XAis           65         NaN         NaN  \n",
              "2  REsaXiaWE, XAis           65         NaN         NaN  \n",
              "3  REsaXiaWE, XAis           65         NaN         NaN  \n",
              "4  REsaXiaWE, XAis           65         NaN         NaN  "
            ]
          },
          "execution_count": 27,
          "metadata": {},
          "output_type": "execute_result"
        }
      ],
      "source": [
        "df.head()"
      ]
    },
    {
      "cell_type": "code",
      "execution_count": 28,
      "metadata": {
        "colab": {
          "base_uri": "https://localhost:8080/",
          "height": 300
        },
        "id": "kBnYUNJwkA5V",
        "outputId": "561d77eb-2e2c-4040-eead-038de3bd06d8"
      },
      "outputs": [
        {
          "data": {
            "text/html": [
              "<div>\n",
              "<style scoped>\n",
              "    .dataframe tbody tr th:only-of-type {\n",
              "        vertical-align: middle;\n",
              "    }\n",
              "\n",
              "    .dataframe tbody tr th {\n",
              "        vertical-align: top;\n",
              "    }\n",
              "\n",
              "    .dataframe thead th {\n",
              "        text-align: right;\n",
              "    }\n",
              "</style>\n",
              "<table border=\"1\" class=\"dataframe\">\n",
              "  <thead>\n",
              "    <tr style=\"text-align: right;\">\n",
              "      <th></th>\n",
              "      <th>File Number</th>\n",
              "      <th>Unnamed: 9</th>\n",
              "    </tr>\n",
              "  </thead>\n",
              "  <tbody>\n",
              "    <tr>\n",
              "      <th>count</th>\n",
              "      <td>1484.000000</td>\n",
              "      <td>0.0</td>\n",
              "    </tr>\n",
              "    <tr>\n",
              "      <th>mean</th>\n",
              "      <td>437.658356</td>\n",
              "      <td>NaN</td>\n",
              "    </tr>\n",
              "    <tr>\n",
              "      <th>std</th>\n",
              "      <td>136.732971</td>\n",
              "      <td>NaN</td>\n",
              "    </tr>\n",
              "    <tr>\n",
              "      <th>min</th>\n",
              "      <td>54.000000</td>\n",
              "      <td>NaN</td>\n",
              "    </tr>\n",
              "    <tr>\n",
              "      <th>25%</th>\n",
              "      <td>368.000000</td>\n",
              "      <td>NaN</td>\n",
              "    </tr>\n",
              "    <tr>\n",
              "      <th>50%</th>\n",
              "      <td>491.000000</td>\n",
              "      <td>NaN</td>\n",
              "    </tr>\n",
              "    <tr>\n",
              "      <th>75%</th>\n",
              "      <td>546.500000</td>\n",
              "      <td>NaN</td>\n",
              "    </tr>\n",
              "    <tr>\n",
              "      <th>max</th>\n",
              "      <td>591.000000</td>\n",
              "      <td>NaN</td>\n",
              "    </tr>\n",
              "  </tbody>\n",
              "</table>\n",
              "</div>"
            ],
            "text/plain": [
              "       File Number  Unnamed: 9\n",
              "count  1484.000000         0.0\n",
              "mean    437.658356         NaN\n",
              "std     136.732971         NaN\n",
              "min      54.000000         NaN\n",
              "25%     368.000000         NaN\n",
              "50%     491.000000         NaN\n",
              "75%     546.500000         NaN\n",
              "max     591.000000         NaN"
            ]
          },
          "execution_count": 28,
          "metadata": {},
          "output_type": "execute_result"
        }
      ],
      "source": [
        "df.describe()"
      ]
    },
    {
      "cell_type": "code",
      "execution_count": 29,
      "metadata": {
        "colab": {
          "base_uri": "https://localhost:8080/"
        },
        "id": "a4TrLVErkEgU",
        "outputId": "f5dc0191-03b4-4216-8c00-68f942d2fb61"
      },
      "outputs": [
        {
          "data": {
            "text/plain": [
              "(1484, 11)"
            ]
          },
          "execution_count": 29,
          "metadata": {},
          "output_type": "execute_result"
        }
      ],
      "source": [
        "df.shape"
      ]
    },
    {
      "cell_type": "code",
      "execution_count": 30,
      "metadata": {
        "colab": {
          "base_uri": "https://localhost:8080/"
        },
        "id": "LO7CN41rkHio",
        "outputId": "2ba1f8ce-eee3-43b9-e5ab-95d2b41d20dc"
      },
      "outputs": [
        {
          "name": "stdout",
          "output_type": "stream",
          "text": [
            "Employees who have worked for consecutive 7 days:\n",
            "['Sparks, KeWWeMh' 'Arias, FeXipe' 'GarWes, JAsMiW' 'FeXix, XeEWeX'\n",
            " 'MAake, CasiaWE' 'DiWh, DaA' 'REdrigAez, PedrE' 'PayaW, DaWieX'\n",
            " 'VasqAez, AXfredE' 'SavaWg, JEhW' 'REdrigAez, XAis' 'SiWgh, CaWpreeM'\n",
            " 'SiWgh, JaspreeM' 'SiWgXeMEW, REger' 'PaXaciE, JEWaMhaW' 'ErEzcE, SaAX'\n",
            " 'CercadE, SaAX' 'CEreira Jr, JEse' 'AXvarez, Edgar' 'XiWW, JAsMiW'\n",
            " 'CaXdEWadE, AXfEWsE' 'PerkiWs, MarraWce' 'GAeWdia, JAaW CarXEs'\n",
            " 'ZaCEra, Edward' 'ArevaXE, JEse' 'CErMes, DEAgXas Farid'\n",
            " 'CercadE, CrisMiaW' 'Caxies, MerreXX' 'CcRAWWeX, REWaXd Xee'\n",
            " 'EXivares, FeXCaW' 'ChaCErE, HEXger CarMiWez' 'WiXXiaCs, MyrreXX'\n",
            " 'CaraGiXXa, AWMhEWy' 'GrACfieXd, CErWeXiAs' 'Perez, EdwiW JiCeWez'\n",
            " 'ArrAMia, AXexis ArMArE' 'SaWchez PaCpXEWa, CrisMiaW AXGerM'\n",
            " 'XEpez WAWez, XAis' 'DeXgadiXXE REdarMe, ChrisMiaW S'\n",
            " 'FaGiaW CiraWda, JEse' 'AXcEcer, ECar JesAs'\n",
            " 'HEGGie ErMega, SeGasMiaW CichaeX' 'REdrigAez, GraWdEW AWgeX'\n",
            " 'Diaz GaXvez, RicardE JEsAe' 'EsMrada, JEse FeXix'\n",
            " 'SMrickXaWd, REdWey EAgeWe' 'RAvaXcaGa GaWAeXEs, DaWieX JesAs'\n",
            " 'JerEWiCE CEraXes, CarXEs D' 'CharXes, EGadiah SEraccE Jr'\n",
            " 'DECiWgAez AviWa, CigAeX AWgeX' 'CAevas ZavaXa, JErge XAis'\n",
            " 'XariEs XaWdaverde, XAis ErWesME' 'CiGriaW DeXgadE, EXeWa S'\n",
            " 'VasqAez, JEhW SeGasMiaW' 'GAMierrez, PedrE CigAeX'\n",
            " 'HerWaWdez SaWchez, AWdrew AWMhEWy' 'De XEs SaWMEs, JEseph XAis'\n",
            " 'ViXXa, AXfredE AieXXE' 'ArCeWMa FXEres, JEWaMhaW'\n",
            " 'RaCEs HerWaWdez, AdieX ECar' 'XariEs, Cesar GiEvaWWi']\n"
          ]
        },
        {
          "name": "stderr",
          "output_type": "stream",
          "text": [
            "/var/folders/2p/k1118vb106749wl_xjd4qbkr0000gn/T/ipykernel_88222/871670680.py:2: UserWarning: Could not infer format, so each element will be parsed individually, falling back to `dateutil`. To ensure parsing is consistent and as-expected, please specify a format.\n",
            "  df['Time Out'] = pd.to_datetime(df['Time Out'])\n"
          ]
        }
      ],
      "source": [
        "df['Time'] = pd.to_datetime(df['Time'])\n",
        "df['Time Out'] = pd.to_datetime(df['Time Out'])\n",
        "df['Day Difference'] = (df['Time'].shift(-1) - df['Time Out']).dt.days\n",
        "consecutive_7_days = df[df['Day Difference'].eq(1)]['Employee Name'].unique()\n",
        "print(\"Employees who have worked for consecutive 7 days:\")\n",
        "print(consecutive_7_days)\n"
      ]
    },
    {
      "cell_type": "code",
      "execution_count": 31,
      "metadata": {
        "colab": {
          "base_uri": "https://localhost:8080/"
        },
        "id": "Wu_Eul6kkSOb",
        "outputId": "166eed22-9d40-4c5a-8946-ebe5198025bb"
      },
      "outputs": [
        {
          "name": "stdout",
          "output_type": "stream",
          "text": [
            "Employees who have less than 10 hours but greater than 1 hour between shifts:\n",
            "['REsaXiaWE, XAis' 'Sparks, KeWWeMh' 'GaXCes, EXias XEpez'\n",
            " 'CaMaXaWE, CeghaW' 'Arias, FeXipe' 'Merrazas, GriaW' 'GarWes, JAsMiW'\n",
            " 'FeXix, XeEWeX' 'HerCEsiXXE, PedrE' 'Xee, XaCar' 'GaWks, GryaW'\n",
            " 'MAake, CasiaWE' 'SiWgh, MarAWpreeM' 'DiWh, DaA' 'ArEsMigAi, AXexaWder'\n",
            " 'De Xa Cerda, IgWaciE' 'REdrigAez, PedrE' 'MraW, WiXXiaC Ha'\n",
            " 'MAcker, CichaeX' 'CaMXEck, CEhaCCed' 'MaXeGi, ACirCasEAd'\n",
            " 'PayaW, DaWieX' 'ErMiz, AGigaiX' 'ErEpeza, JEvaW' 'VasqAez, AXfredE'\n",
            " 'SavaWg, JEhW' 'REdrigAez, XAis' 'EasMCaW, CichaeX' 'SiWgh, CaWpreeM'\n",
            " 'RECerE, SergiE' 'SiWgh, JaspreeM' 'SiWgXeMEW, REger' 'PaXaciE, JEWaMhaW'\n",
            " 'ErEzcE, SaAX' 'CercadE, SaAX' 'CEreira Jr, JEse' 'AXvarez, Edgar'\n",
            " 'PaAXE, KyXe' 'XiWW, JAsMiW' 'CaXdEWadE, AXfEWsE' 'CeWdEza, Erik'\n",
            " 'PerkiWs, MarraWce' 'GAeWdia, JAaW CarXEs' 'ZaCEra, Edward'\n",
            " 'ArevaXE, JEse' 'CErMes, DEAgXas Farid' 'CercadE, CrisMiaW'\n",
            " 'ZaCEra, CigAeX' 'Caxies, MerreXX' 'CcRAWWeX, REWaXd Xee'\n",
            " 'CEMMa, Jessica' 'REdrigAez, AXexis GAMierrez' 'Rivera AXcaWMar, GrayaW'\n",
            " 'EXivares, FeXCaW' 'ChaCErE, HEXger CarMiWez' 'WiXXiaCs, MyrreXX'\n",
            " 'CaraGiXXa, AWMhEWy' 'GrACfieXd, CErWeXiAs' 'Perez, EdwiW JiCeWez'\n",
            " 'ArrAMia, AXexis ArMArE' 'DiXXard, JEwaWW Cedric'\n",
            " 'SaWchez PaCpXEWa, CrisMiaW AXGerM' 'XEpez WAWez, XAis'\n",
            " 'DeXgadiXXE REdarMe, ChrisMiaW S' 'CeciWa, SiXvesMre Jr'\n",
            " 'FaGiaW CiraWda, JEse' 'HaCiXMEW, DeaWMe DevEW' 'HAWMer, ViWceWM De PaAX'\n",
            " 'AXcEcer, ECar JesAs' 'IWGEAa, JeffersEW' 'CesiWa CEreWE, KeviW FaGiaW'\n",
            " 'HEGGie ErMega, SeGasMiaW CichaeX' 'REdrigAez, GraWdEW AWgeX'\n",
            " 'Diaz GaXvez, RicardE JEsAe' 'EsMrada, JEse FeXix'\n",
            " 'SMrickXaWd, REdWey EAgeWe' 'RAvaXcaGa GaWAeXEs, DaWieX JesAs'\n",
            " 'JerEWiCE CEraXes, CarXEs D' 'CharXes, EGadiah SEraccE Jr'\n",
            " 'DECiWgAez AviWa, CigAeX AWgeX' 'CAevas ZavaXa, JErge XAis'\n",
            " 'XariEs XaWdaverde, XAis ErWesME' 'VaXderraCa CasMiXXE, Escar FaGiaW'\n",
            " 'CiGriaW DeXgadE, EXeWa S' 'CarMer, XyWWeXX DejAaW Jr' 'SaWchez, ArWAXfE'\n",
            " 'VasqAez, JEhW SeGasMiaW' 'GAMierrez, PedrE CigAeX'\n",
            " 'HerWaWdez SaWchez, AWdrew AWMhEWy' 'De XEs SaWMEs, JEseph XAis'\n",
            " 'ViXXa, AXfredE AieXXE' 'ArCeWMa FXEres, JEWaMhaW'\n",
            " 'RaCEs HerWaWdez, AdieX ECar' 'XariEs, Cesar GiEvaWWi'\n",
            " 'AGeX, WaMhaW REGerM PeWa' 'WgAyeW, RayCEWd']\n"
          ]
        }
      ],
      "source": [
        "import pandas as pd\n",
        "from datetime import timedelta\n",
        "\n",
        "\n",
        "# Step 1: Convert 'Time' and 'Time Out' to Datetime\n",
        "df['Time'] = pd.to_datetime(df['Time'])\n",
        "df['Time Out'] = pd.to_datetime(df['Time Out'])\n",
        "\n",
        "# Step 2: Calculate Time Difference Between Shifts\n",
        "df['Shift Duration'] = (df['Time Out'] - df['Time']).dt.total_seconds() / 3600\n",
        "\n",
        "# Step 3: Identify Employees with Less than 10 Hours but Greater than 1 Hour Between Shifts\n",
        "filtered_employees = df[(df['Shift Duration'] < 10) & (df['Shift Duration'] > 1)]['Employee Name'].unique()\n",
        "\n",
        "# Step 4: Display the Results\n",
        "print(\"Employees who have less than 10 hours but greater than 1 hour between shifts:\")\n",
        "print(filtered_employees)\n"
      ]
    },
    {
      "cell_type": "code",
      "execution_count": 32,
      "metadata": {
        "colab": {
          "base_uri": "https://localhost:8080/"
        },
        "id": "pj3UmxAL1Uac",
        "outputId": "c1219404-4fb1-45a2-e116-cbeb4c4ce241"
      },
      "outputs": [
        {
          "name": "stdout",
          "output_type": "stream",
          "text": [
            "Employees who have worked for more than 14 hours in a single shift:\n",
            "['REsaXiaWE, XAis' 'Sparks, KeWWeMh' 'GaXCes, EXias XEpez'\n",
            " 'CaMaXaWE, CeghaW' 'Arias, FeXipe' 'Merrazas, GriaW' 'GarWes, JAsMiW'\n",
            " 'FeXix, XeEWeX' 'HerCEsiXXE, PedrE' 'Xee, XaCar' 'GaWks, GryaW'\n",
            " 'MAake, CasiaWE' 'SiWgh, MarAWpreeM' 'DiWh, DaA' 'ArEsMigAi, AXexaWder'\n",
            " 'De Xa Cerda, IgWaciE' 'REdrigAez, PedrE' 'MraW, WiXXiaC Ha'\n",
            " 'MAcker, CichaeX' 'CaMXEck, CEhaCCed' 'MaXeGi, ACirCasEAd'\n",
            " 'ErMiz, AGigaiX' 'ErEpeza, JEvaW' 'VasqAez, AXfredE' 'REdrigAez, XAis'\n",
            " 'EasMCaW, CichaeX' 'SiWgh, CaWpreeM' 'SiWgh, JaspreeM' 'SiWgXeMEW, REger'\n",
            " 'ErEzcE, SaAX' 'CercadE, SaAX' 'CEreira Jr, JEse' 'AXvarez, Edgar'\n",
            " 'PaAXE, KyXe' 'XiWW, JAsMiW' 'CaXdEWadE, AXfEWsE' 'CeWdEza, Erik'\n",
            " 'GAeWdia, JAaW CarXEs' 'ZaCEra, Edward' 'ArevaXE, JEse'\n",
            " 'CErMes, DEAgXas Farid' 'CercadE, CrisMiaW' 'ZaCEra, CigAeX'\n",
            " 'Caxies, MerreXX' 'CcRAWWeX, REWaXd Xee' 'CEMMa, Jessica'\n",
            " 'REdrigAez, AXexis GAMierrez' 'Rivera AXcaWMar, GrayaW'\n",
            " 'EXivares, FeXCaW' 'ChaCErE, HEXger CarMiWez' 'WiXXiaCs, MyrreXX'\n",
            " 'CaraGiXXa, AWMhEWy' 'GrACfieXd, CErWeXiAs' 'Perez, EdwiW JiCeWez'\n",
            " 'ArrAMia, AXexis ArMArE' 'DiXXard, JEwaWW Cedric'\n",
            " 'SaWchez PaCpXEWa, CrisMiaW AXGerM' 'XEpez WAWez, XAis'\n",
            " 'DeXgadiXXE REdarMe, ChrisMiaW S' 'CeciWa, SiXvesMre Jr'\n",
            " 'FaGiaW CiraWda, JEse' 'HaCiXMEW, DeaWMe DevEW' 'HAWMer, ViWceWM De PaAX'\n",
            " 'AXcEcer, ECar JesAs' 'IWGEAa, JeffersEW' 'CesiWa CEreWE, KeviW FaGiaW'\n",
            " 'HEGGie ErMega, SeGasMiaW CichaeX' 'REdrigAez, GraWdEW AWgeX'\n",
            " 'Diaz GaXvez, RicardE JEsAe' 'SMrickXaWd, REdWey EAgeWe'\n",
            " 'RAvaXcaGa GaWAeXEs, DaWieX JesAs' 'JerEWiCE CEraXes, CarXEs D'\n",
            " 'DECiWgAez AviWa, CigAeX AWgeX' 'CAevas ZavaXa, JErge XAis'\n",
            " 'XariEs XaWdaverde, XAis ErWesME' 'VaXderraCa CasMiXXE, Escar FaGiaW'\n",
            " 'CiGriaW DeXgadE, EXeWa S' 'CarMer, XyWWeXX DejAaW Jr' 'SaWchez, ArWAXfE'\n",
            " 'GAMierrez, PedrE CigAeX' 'HerWaWdez SaWchez, AWdrew AWMhEWy'\n",
            " 'De XEs SaWMEs, JEseph XAis' 'ArCeWMa FXEres, JEWaMhaW'\n",
            " 'RaCEs HerWaWdez, AdieX ECar' 'XariEs, Cesar GiEvaWWi'\n",
            " 'AGeX, WaMhaW REGerM PeWa' 'WgAyeW, RayCEWd']\n"
          ]
        }
      ],
      "source": [
        "import pandas as pd\n",
        "from datetime import timedelta\n",
        "\n",
        "\n",
        "\n",
        "# Step 1: Convert 'Time' and 'Time Out' to Datetime\n",
        "df['Time'] = pd.to_datetime(df['Time'])\n",
        "df['Time Out'] = pd.to_datetime(df['Time Out'])\n",
        "\n",
        "# Step 2: Calculate Shift Duration\n",
        "df['Shift Duration'] = (df['Time Out'] - df['Time']).dt.total_seconds() / 3600\n",
        "\n",
        "# Step 3: Identify Employees with Shift Duration > 14 hours\n",
        "filtered_employees = df[df['Shift Duration'] > 14]['Employee Name'].unique()\n",
        "\n",
        "# Step 4: Display the Results\n",
        "print(\"Employees who have worked for more than 14 hours in a single shift:\")\n",
        "print(filtered_employees)\n"
      ]
    },
    {
      "cell_type": "code",
      "execution_count": null,
      "metadata": {
        "id": "hE0sCSYo1fjr"
      },
      "outputs": [],
      "source": []
    }
  ],
  "metadata": {
    "colab": {
      "provenance": []
    },
    "kernelspec": {
      "display_name": "Python 3",
      "name": "python3"
    },
    "language_info": {
      "codemirror_mode": {
        "name": "ipython",
        "version": 3
      },
      "file_extension": ".py",
      "mimetype": "text/x-python",
      "name": "python",
      "nbconvert_exporter": "python",
      "pygments_lexer": "ipython3",
      "version": "3.11.5"
    }
  },
  "nbformat": 4,
  "nbformat_minor": 0
}
